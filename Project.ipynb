{
 "cells": [
  {
   "cell_type": "markdown",
   "metadata": {},
   "source": [
    "# COMP4121 Project - How do I influence people on online social network?\n",
    "###### created by yisong jiang(z5123920)"
   ]
  },
  {
   "cell_type": "markdown",
   "metadata": {},
   "source": [
    "## What's in this notebook? How to read it?\n",
    "All the implementing, examples, testings of this project.\n",
    "<br>The cells with in[] are python code cells that can be run and running result will be below of them"
   ]
  },
  {
   "cell_type": "markdown",
   "metadata": {},
   "source": [
    "## Measuring node importance\n",
    "We now use the example network in the textbook to calculate the 4 approaches to measure node importance\n",
    "![](src/1.png)"
   ]
  },
  {
   "cell_type": "code",
   "execution_count": 1,
   "metadata": {
    "collapsed": true
   },
   "outputs": [],
   "source": [
    "#import the modules that we will use in this project\n",
    "import numpy as np\n",
    "import copy\n",
    "from scipy.integrate import odeint\n",
    "import matplotlib.pyplot as plt\n",
    "import warnings\n",
    "import networkx as nx\n",
    "import operator\n",
    "warnings.filterwarnings(\"ignore\")"
   ]
  },
  {
   "cell_type": "markdown",
   "metadata": {},
   "source": [
    "## build my own graph and define implement functions "
   ]
  },
  {
   "cell_type": "code",
   "execution_count": 2,
   "metadata": {
    "collapsed": true
   },
   "outputs": [],
   "source": [
    "# simply bidirected node\n",
    "class node():\n",
    "    def __init__(self,value,name):\n",
    "        self.value = value\n",
    "        self.connected_nodes = []\n",
    "        self.name = name\n",
    "# general setup\n",
    "# add nodes into the graph as well as their neighbours\n",
    "node1 = node(1,'N1')\n",
    "node2 = node(2,'N2')\n",
    "node3 = node(3,'N3')\n",
    "node4 = node(4,'N4')\n",
    "node5 = node(5,'N5')\n",
    "node6 = node(6,'N6')\n",
    "node7 = node(7,'N7')\n",
    "node8 = node(8,'N8')\n",
    "node1.connected_nodes.extend([node2,node3,node4])\n",
    "node2.connected_nodes.extend([node1,node4,node5])\n",
    "node3.connected_nodes.extend([node1,node6,node7,node8])\n",
    "node4.connected_nodes.extend([node1,node2,node5])\n",
    "node5.connected_nodes.extend([node2,node4])\n",
    "node6.connected_nodes.extend([node7,node3])\n",
    "node7.connected_nodes.extend([node6,node3,node8])\n",
    "node8.connected_nodes.extend([node7,node3])\n",
    "\n",
    "nodelist = [node1,node2,node3,node4,node5,node6,node7,node8]\n",
    "num_node = len(nodelist)\n"
   ]
  },
  {
   "cell_type": "code",
   "execution_count": 3,
   "metadata": {},
   "outputs": [
    {
     "name": "stdout",
     "output_type": "stream",
     "text": [
      "Adjacency matrix:\n"
     ]
    },
    {
     "data": {
      "text/plain": [
       "matrix([[0, 1, 1, 1, 0, 0, 0, 0],\n",
       "        [1, 0, 0, 1, 1, 0, 0, 0],\n",
       "        [1, 0, 0, 0, 0, 1, 1, 1],\n",
       "        [1, 1, 0, 0, 1, 0, 0, 0],\n",
       "        [0, 1, 0, 1, 0, 0, 0, 0],\n",
       "        [0, 0, 1, 0, 0, 0, 1, 0],\n",
       "        [0, 0, 1, 0, 0, 1, 0, 1],\n",
       "        [0, 0, 1, 0, 0, 0, 1, 0]])"
      ]
     },
     "execution_count": 3,
     "metadata": {},
     "output_type": "execute_result"
    }
   ],
   "source": [
    "# adjacency matrix\n",
    "\n",
    "adjacency = []\n",
    "for nd in nodelist:\n",
    "    adj_vector = []\n",
    "    for ond in nodelist:\n",
    "        if (ond in nd.connected_nodes):\n",
    "            adj_vector.append(1)\n",
    "        else:\n",
    "            adj_vector.append(0)\n",
    "    adjacency.append(adj_vector)\n",
    "adjacency = np.matrix(adjacency)\n",
    "print(\"Adjacency matrix:\")\n",
    "adjacency"
   ]
  },
  {
   "cell_type": "markdown",
   "metadata": {},
   "source": [
    "Eigenvector centrality\n",
    "![](src/2.png)"
   ]
  },
  {
   "cell_type": "code",
   "execution_count": 4,
   "metadata": {},
   "outputs": [
    {
     "name": "stdout",
     "output_type": "stream",
     "text": [
      "Largest eigenvalue: 2.87227621285\n",
      "Eigenvector centrality for nodes:\n",
      " [[ 0.40631618  0.34551743  0.47601744  0.34551743  0.24058789  0.29492475\n",
      "   0.37108789  0.29492475]]\n"
     ]
    }
   ],
   "source": [
    "#Eigenvector centrality\n",
    "w,v =np.linalg.eig(adjacency)\n",
    "print(\"Largest eigenvalue:\",w[0])\n",
    "print(\"Eigenvector centrality for nodes:\\n\",v.T[0][0])"
   ]
  },
  {
   "cell_type": "code",
   "execution_count": 5,
   "metadata": {},
   "outputs": [
    {
     "name": "stdout",
     "output_type": "stream",
     "text": [
      "Length of shortest path between two nodes:\n",
      "D12: 1 D13: 1 D14: 1 D15: 2 D16: 2 D17: 2 D18: 2 \n",
      "D21: 1 D23: 2 D24: 1 D25: 1 D26: 3 D27: 3 D28: 3 \n",
      "D31: 1 D32: 2 D34: 2 D35: 3 D36: 1 D37: 1 D38: 1 \n",
      "D41: 1 D42: 1 D43: 2 D45: 1 D46: 3 D47: 3 D48: 3 \n",
      "D51: 2 D52: 1 D53: 3 D54: 1 D56: 4 D57: 4 D58: 4 \n",
      "D61: 2 D62: 3 D63: 1 D64: 3 D65: 4 D67: 1 D68: 2 \n",
      "D71: 2 D72: 3 D73: 1 D74: 3 D75: 4 D76: 1 D78: 1 \n",
      "D81: 2 D82: 3 D83: 1 D84: 3 D85: 4 D86: 2 D87: 1 \n"
     ]
    }
   ],
   "source": [
    "def shortest_path(start,end):\n",
    "    if start == end:\n",
    "        return 0,'X','X'\n",
    "    path = [[start]]\n",
    "    while(True):\n",
    "        allnode = []\n",
    "        for subpath in path:\n",
    "            allnode.extend(subpath)\n",
    "        if end in allnode:\n",
    "            break\n",
    "        newpath = []\n",
    "        for subpath in path:\n",
    "            lastnode = subpath[-1]\n",
    "            for node in lastnode.connected_nodes:\n",
    "                if not node in subpath:\n",
    "                    newpath.append(subpath+[node])\n",
    "        path = newpath\n",
    "    path_with_name = []\n",
    "    for subpath in path:\n",
    "        if not end in subpath:\n",
    "            continue\n",
    "        sub = []\n",
    "        for s in subpath:\n",
    "            sub.append(s.name)\n",
    "        path_with_name.append(sub)\n",
    "    num_of_shortest_path = len(path_with_name)\n",
    "    length_of_shortest_path = len(path_with_name[0])-1\n",
    "    return length_of_shortest_path,num_of_shortest_path,path_with_name\n",
    "\n",
    "print(\"Length of shortest path between two nodes:\")\n",
    "for i in range(num_node):\n",
    "    for j in range(num_node):\n",
    "        if not i == j:\n",
    "            length,_,_ = shortest_path(nodelist[i],nodelist[j])\n",
    "            print(\"D\"+str(i+1)+str(j+1)+\":\",length,end = ' ')\n",
    "    print()\n",
    "            "
   ]
  },
  {
   "cell_type": "markdown",
   "metadata": {},
   "source": [
    "![](src/3.png)"
   ]
  },
  {
   "cell_type": "code",
   "execution_count": 6,
   "metadata": {},
   "outputs": [
    {
     "name": "stdout",
     "output_type": "stream",
     "text": [
      "closeness_centrality for nodes:\n",
      "[0.6363636363636364, 0.5, 0.6363636363636364, 0.5, 0.3684210526315789, 0.4375, 0.4666666666666667, 0.4375]\n",
      "matrix G for nodes:\n",
      "[['X' '1' '1' '1' '2' '1' '1' '1']\n",
      " ['1' 'X' '1' '1' '1' '1' '1' '1']\n",
      " ['1' '1' 'X' '1' '2' '1' '1' '1']\n",
      " ['1' '1' '1' 'X' '1' '1' '1' '1']\n",
      " ['2' '1' '2' '1' 'X' '2' '2' '2']\n",
      " ['1' '1' '1' '1' '2' 'X' '1' '2']\n",
      " ['1' '1' '1' '1' '2' '1' 'X' '1']\n",
      " ['1' '1' '1' '1' '2' '2' '1' 'X']]\n"
     ]
    }
   ],
   "source": [
    "closeness_centrality = []\n",
    "G = []\n",
    "for node in nodelist:\n",
    "    num_other_node = num_node-1\n",
    "    len_sum = 0\n",
    "    tmp = []\n",
    "    for other_node in nodelist:\n",
    "        length,num,_ = shortest_path(node,other_node)\n",
    "        len_sum = len_sum + length\n",
    "        tmp.append(num)\n",
    "    G.append(tmp)\n",
    "    closeness_centrality.append(num_other_node/len_sum)\n",
    "print(\"closeness_centrality for nodes:\")\n",
    "print(closeness_centrality)\n",
    "print(\"matrix G for nodes:\")\n",
    "G = np.matrix(G)\n",
    "print(G)"
   ]
  },
  {
   "cell_type": "code",
   "execution_count": 7,
   "metadata": {},
   "outputs": [
    {
     "name": "stdout",
     "output_type": "stream",
     "text": [
      "N1:\n",
      " [['X' 'X' 'X' 'X' 'X' 'X' 'X' 'X']\n",
      " ['X' 'X' '1' '0' '0' '1' '1' '1']\n",
      " ['X' '1' 'X' '1' '2' '0' '0' '0']\n",
      " ['X' '0' '1' 'X' '0' '1' '1' '1']\n",
      " ['X' '0' '2' '0' 'X' '2' '2' '2']\n",
      " ['X' '1' '0' '1' '2' 'X' '0' '0']\n",
      " ['X' '1' '0' '1' '2' '0' 'X' '0']\n",
      " ['X' '1' '0' '1' '2' '0' '0' 'X']]\n",
      "N2:\n",
      " [['X' 'X' '0' '0' '1' '0' '0' '0']\n",
      " ['X' 'X' 'X' 'X' 'X' 'X' 'X' 'X']\n",
      " ['0' 'X' 'X' '0' '1' '0' '0' '0']\n",
      " ['0' 'X' '0' 'X' '0' '0' '0' '0']\n",
      " ['1' 'X' '1' '0' 'X' '1' '1' '1']\n",
      " ['0' 'X' '0' '0' '1' 'X' '0' '0']\n",
      " ['0' 'X' '0' '0' '1' '0' 'X' '0']\n",
      " ['0' 'X' '0' '0' '1' '0' '0' 'X']]\n"
     ]
    }
   ],
   "source": [
    "def num_in_path(target):\n",
    "    N = []\n",
    "    for node in nodelist:\n",
    "        length = len(nodelist)\n",
    "        if node == target:\n",
    "            N.append(length*['X'])\n",
    "            continue\n",
    "        tmp = []\n",
    "        for othernode in nodelist:\n",
    "            if othernode == target or othernode == node:\n",
    "                tmp.append('X')\n",
    "                continue\n",
    "            count = 0\n",
    "            _,_,paths = shortest_path(node,othernode)\n",
    "            for subpath in paths:\n",
    "                if target.name in subpath:\n",
    "                    count = count+1\n",
    "            tmp.append(count)\n",
    "        N.append(tmp)\n",
    "    N = np.matrix(N)\n",
    "    return N\n",
    "print('N1:\\n',num_in_path(node1))\n",
    "print('N2:\\n',num_in_path(node2))"
   ]
  },
  {
   "cell_type": "markdown",
   "metadata": {},
   "source": [
    "![](src/4.png)"
   ]
  },
  {
   "cell_type": "code",
   "execution_count": 8,
   "metadata": {},
   "outputs": [
    {
     "name": "stdout",
     "output_type": "stream",
     "text": [
      "B1:12.00\n",
      "B2:2.50\n"
     ]
    }
   ],
   "source": [
    "def betweenness_centrality(n):\n",
    "    N = num_in_path(n)\n",
    "    indx = nodelist.index(n)\n",
    "    ss = 0\n",
    "    for i in range(num_node):\n",
    "        for j in range(i+1,num_node):\n",
    "            if (not i == indx) and (not j == indx):\n",
    "                ss = ss + (float(N[i,j])/float(G[i,j]))\n",
    "    return ss\n",
    "\n",
    "print('B1:{:.2f}'.format(betweenness_centrality(node1)))\n",
    "print('B2:{:.2f}'.format(betweenness_centrality(node2)))"
   ]
  },
  {
   "cell_type": "markdown",
   "metadata": {},
   "source": [
    "### Measuring link importance"
   ]
  },
  {
   "cell_type": "code",
   "execution_count": 9,
   "metadata": {},
   "outputs": [
    {
     "name": "stdout",
     "output_type": "stream",
     "text": [
      "N(N1,N3):\n",
      "[['X' '0' '1' '0' '0' '1' '1' '1']\n",
      " ['0' 'X' '1' '0' '0' '1' '1' '1']\n",
      " ['1' '1' 'X' '1' '2' '0' '0' '0']\n",
      " ['0' '0' '1' 'X' '0' '1' '1' '1']\n",
      " ['0' '0' '2' '0' 'X' '2' '2' '2']\n",
      " ['1' '1' '0' '1' '2' 'X' '0' '0']\n",
      " ['1' '1' '0' '1' '2' '0' 'X' '0']\n",
      " ['1' '1' '0' '1' '2' '0' '0' 'X']]\n",
      "N(N1,N2):\n",
      "[['X' '1' '0' '0' '1' '0' '0' '0']\n",
      " ['1' 'X' '1' '0' '0' '1' '1' '1']\n",
      " ['0' '1' 'X' '0' '1' '0' '0' '0']\n",
      " ['0' '0' '0' 'X' '0' '0' '0' '0']\n",
      " ['1' '0' '1' '0' 'X' '1' '1' '1']\n",
      " ['0' '1' '0' '0' '1' 'X' '0' '0']\n",
      " ['0' '1' '0' '0' '1' '0' 'X' '0']\n",
      " ['0' '1' '0' '0' '1' '0' '0' 'X']]\n"
     ]
    }
   ],
   "source": [
    "def num_link_in_path(v1,v2):\n",
    "    N = []\n",
    "    for node in nodelist:\n",
    "        tmp = []\n",
    "        for othernode in nodelist:\n",
    "            if othernode == node:\n",
    "                tmp.append('X')\n",
    "                continue\n",
    "            count = 0\n",
    "            _,_,paths = shortest_path(node,othernode)\n",
    "            for subpath in paths:\n",
    "                if v1.name in subpath and v2.name in subpath:\n",
    "                    ind1 = subpath.index(v1.name)\n",
    "                    ind2 = subpath.index(v2.name)\n",
    "                    if abs(ind1-ind2)==1:\n",
    "                        count = count +1\n",
    "                    \n",
    "            tmp.append(count)\n",
    "        N.append(tmp)\n",
    "    N = np.matrix(N)\n",
    "    return N\n",
    "print(\"N({},{}):\".format(node1.name,node3.name))\n",
    "print(num_link_in_path(node1,node3))\n",
    "print(\"N({},{}):\".format(node1.name,node2.name))\n",
    "print(num_link_in_path(node1,node2))"
   ]
  },
  {
   "cell_type": "markdown",
   "metadata": {},
   "source": [
    "![](src/5.png)"
   ]
  },
  {
   "cell_type": "code",
   "execution_count": 10,
   "metadata": {},
   "outputs": [
    {
     "name": "stdout",
     "output_type": "stream",
     "text": [
      "Summary:\n",
      "D1: 3\n",
      "D2: 3\n",
      "E1:0.41\n",
      "E2:0.35\n",
      "C1:0.64\n",
      "C2:0.50\n",
      "B1:12.00\n",
      "B2:2.50\n",
      "B(N1,N3):16.0\n",
      "B(N1,N2):7.5\n"
     ]
    }
   ],
   "source": [
    "def betweenness_centrality_link(v1,v2):\n",
    "    N = num_link_in_path(v1,v2)\n",
    "    ss = 0\n",
    "    for i in range(num_node):\n",
    "        for j in range(i+1,num_node):\n",
    "            ss = ss + (float(N[i,j])/float(G[i,j]))\n",
    "    return ss\n",
    "print(\"Summary:\")\n",
    "print(\"D1:\",len(node1.connected_nodes))\n",
    "print(\"D2:\",len(node2.connected_nodes))\n",
    "print(\"E1:{:.2f}\".format(v[0][0,0]))\n",
    "print(\"E2:{:.2f}\".format(v[1][0,0]))\n",
    "print(\"C1:{:.2f}\".format(closeness_centrality[0]))\n",
    "print(\"C2:{:.2f}\".format(closeness_centrality[1]))\n",
    "print('B1:{:.2f}'.format(betweenness_centrality(node1)))\n",
    "print('B2:{:.2f}'.format(betweenness_centrality(node2)))\n",
    "print(\"B({},{}):\".format(node1.name,node3.name),end='')\n",
    "print(betweenness_centrality_link(node1,node3))\n",
    "print(\"B({},{}):\".format(node1.name,node2.name),end='')\n",
    "print(betweenness_centrality_link(node1,node2))"
   ]
  },
  {
   "cell_type": "markdown",
   "metadata": {},
   "source": [
    "## In order to build a more complex graph in later part, I will use a python module \"networkx\""
   ]
  },
  {
   "cell_type": "code",
   "execution_count": 11,
   "metadata": {},
   "outputs": [
    {
     "data": {
      "image/png": "[encoded data removed]",
      "text/plain": [
       "<matplotlib.figure.Figure at 0x117d27550>"
      ]
     },
     "metadata": {},
     "output_type": "display_data"
    }
   ],
   "source": [
    "mygraph = nx.Graph()\n",
    "mygraph.add_edge(1,2)\n",
    "mygraph.add_edge(1,3)\n",
    "mygraph.add_edge(1,4)\n",
    "mygraph.add_edge(2,4)\n",
    "mygraph.add_edge(2,5)\n",
    "mygraph.add_edge(3,6)\n",
    "mygraph.add_edge(3,7)\n",
    "mygraph.add_edge(3,8)\n",
    "mygraph.add_edge(4,5)\n",
    "mygraph.add_edge(6,7)\n",
    "mygraph.add_edge(7,8)\n",
    "\n",
    "plt.clf()\n",
    "nx.draw_spring(mygraph,with_labels=True)\n",
    "plt.show()"
   ]
  },
  {
   "cell_type": "markdown",
   "metadata": {},
   "source": [
    "The graph above is actually totally same with the example.<br>\n",
    "Then we use the methods to calcuate 4 attribuates again.<br>\n",
    "Of course, it is totally same as the result we got in previous approach."
   ]
  },
  {
   "cell_type": "code",
   "execution_count": 12,
   "metadata": {},
   "outputs": [
    {
     "name": "stdout",
     "output_type": "stream",
     "text": [
      "Summary:\n",
      "D1: 3\n",
      "D2: 3\n",
      "E1:0.41\n",
      "E2:0.35\n",
      "C1:0.64\n",
      "C2:0.50\n",
      "B1:12.00\n",
      "B2:2.50\n",
      "B(1,3) 16.0\n",
      "B(1,2) 7.5\n"
     ]
    }
   ],
   "source": [
    "print(\"Summary:\")\n",
    "print(\"D1:\",mygraph.degree(1))\n",
    "print(\"D2:\",mygraph.degree(2))\n",
    "print(\"E1:{:.2f}\".format(nx.eigenvector_centrality(mygraph)[1]))\n",
    "print(\"E2:{:.2f}\".format(nx.eigenvector_centrality(mygraph)[2]))\n",
    "print(\"C1:{:.2f}\".format(nx.closeness_centrality(mygraph)[1]))\n",
    "print(\"C2:{:.2f}\".format(nx.closeness_centrality(mygraph)[2]))\n",
    "print(\"B1:{:.2f}\".format(nx.betweenness_centrality(mygraph, normalized=False)[1]))\n",
    "print(\"B2:{:.2f}\".format(nx.betweenness_centrality(mygraph, normalized=False)[2]))\n",
    "print(\"B(1,3)\",nx.edge_betweenness_centrality(mygraph, normalized=False)[1,3])\n",
    "print(\"B(1,2)\",nx.edge_betweenness_centrality(mygraph, normalized=False)[1,2])"
   ]
  },
  {
   "cell_type": "markdown",
   "metadata": {},
   "source": [
    "## Infection Models\n",
    "![](src/6.png)"
   ]
  },
  {
   "cell_type": "markdown",
   "metadata": {},
   "source": [
    "### SI model\n",
    "![](src/7.png)\n",
    "![](src/8.png)\n",
    "![](src/9.png)"
   ]
  },
  {
   "cell_type": "code",
   "execution_count": 13,
   "metadata": {},
   "outputs": [
    {
     "data": {
      "image/png": "[encoded data removed]",
      "text/plain": [
       "<matplotlib.figure.Figure at 0x117e94668>"
      ]
     },
     "metadata": {},
     "output_type": "display_data"
    }
   ],
   "source": [
    "def SI(N = 2000, I0 = 1, beta = 0.3):\n",
    "    S0 = N - I0 \n",
    "    t = np.linspace(0, 160, 160)\n",
    "    def deriv(y, t, N, beta):\n",
    "        S, I = y\n",
    "        dSdt = -beta * S * I / N\n",
    "        dIdt = beta * S * I / N \n",
    "        return dSdt, dIdt, \n",
    "    y0 = S0, I0\n",
    "    ret = odeint(deriv, y0, t, args=(N, beta))\n",
    "    S, I = ret.T\n",
    "    fig = plt.figure(facecolor='w')\n",
    "    ax = fig.add_subplot(111,axis_bgcolor='#dddddd', axisbelow=True)\n",
    "    ax.plot(t, S/1000, 'b', alpha=0.5, lw=2, label='Susceptible')\n",
    "    ax.plot(t, I/1000, 'r', alpha=0.5, lw=2, label='Infected')\n",
    "    ax.set_xlabel('Time /days')\n",
    "    ax.set_ylabel('Number (1000s)')\n",
    "    ax.set_ylim(0,N/1000)\n",
    "    ax.yaxis.set_tick_params(length=0)\n",
    "    ax.xaxis.set_tick_params(length=0)\n",
    "    ax.grid(b=True, which='major', c='w', lw=2, ls='-')\n",
    "    legend = ax.legend()\n",
    "    legend.get_frame().set_alpha(0.5)\n",
    "    for spine in ('top', 'right', 'bottom', 'left'):\n",
    "        ax.spines[spine].set_visible(False)\n",
    "    plt.show()\n",
    "SI()"
   ]
  },
  {
   "cell_type": "markdown",
   "metadata": {},
   "source": [
    "### SIS model\n",
    "![](src/10.png)\n",
    "![](src/11.png)"
   ]
  },
  {
   "cell_type": "code",
   "execution_count": 14,
   "metadata": {},
   "outputs": [
    {
     "data": {
      "image/png": "[encoded data removed]",
      "text/plain": [
       "<matplotlib.figure.Figure at 0x117d27908>"
      ]
     },
     "metadata": {},
     "output_type": "display_data"
    }
   ],
   "source": [
    "def SIS(N = 2000, I0 = 1, beta = 0.3, gamma = 0.1):\n",
    "    S0 = N - I0\n",
    "    t = np.linspace(0, 160, 160)\n",
    "    def deriv(y, t, N, beta, gamma):\n",
    "        S, I = y\n",
    "        dSdt = -beta * S * I / N \n",
    "        dIdt = beta * S * I / N - gamma * I\n",
    "        dSdt = dSdt + gamma * I\n",
    "        return dSdt, dIdt\n",
    "    y0 = S0, I0\n",
    "    ret = odeint(deriv, y0, t, args=(N, beta, gamma))\n",
    "    S, I = ret.T\n",
    "    fig = plt.figure(facecolor='w')\n",
    "    ax = fig.add_subplot(111,axis_bgcolor='#dddddd', axisbelow=True)\n",
    "    ax.plot(t, S/1000, 'b', alpha=0.5, lw=2, label='Susceptible')\n",
    "    ax.plot(t, I/1000, 'r', alpha=0.5, lw=2, label='Infected')\n",
    "    ax.set_xlabel('Time /days')\n",
    "    ax.set_ylabel('Number (1000s)')\n",
    "    ax.set_ylim(0,N/1000)\n",
    "    ax.yaxis.set_tick_params(length=0)\n",
    "    ax.xaxis.set_tick_params(length=0)\n",
    "    ax.grid(b=True, which='major', c='w', lw=2, ls='-')\n",
    "    legend = ax.legend()\n",
    "    legend.get_frame().set_alpha(0.5)\n",
    "    for spine in ('top', 'right', 'bottom', 'left'):\n",
    "        ax.spines[spine].set_visible(False)\n",
    "    plt.show()\n",
    "SIS()"
   ]
  },
  {
   "cell_type": "markdown",
   "metadata": {},
   "source": [
    "### SIR model\n",
    "![](src/12.png)"
   ]
  },
  {
   "cell_type": "code",
   "execution_count": 15,
   "metadata": {},
   "outputs": [
    {
     "data": {
      "image/png": "[encoded data removed]",
      "text/plain": [
       "<matplotlib.figure.Figure at 0x11b1398d0>"
      ]
     },
     "metadata": {},
     "output_type": "display_data"
    }
   ],
   "source": [
    "def SIR(N = 2000, I0 = 1, R0 = 0, beta = 0.5, gamma = 0.1):\n",
    "    S0 = N - I0 - R0\n",
    "    t = np.linspace(0, 160, 160)\n",
    "    def deriv(y, t, N, beta, gamma):\n",
    "        S, I, R = y\n",
    "        dSdt = -beta * S * I / N\n",
    "        dIdt = beta * S * I / N - gamma * I\n",
    "        dRdt = gamma * I\n",
    "        return dSdt, dIdt, dRdt\n",
    "    y0 = S0, I0, R0\n",
    "    ret = odeint(deriv, y0, t, args=(N, beta, gamma))\n",
    "    S, I, R = ret.T\n",
    "    fig = plt.figure(facecolor='w')\n",
    "    ax = fig.add_subplot(111,axis_bgcolor='#dddddd', axisbelow=True)\n",
    "    ax.plot(t, S/1000, 'b', alpha=0.5, lw=2, label='Susceptible')\n",
    "    ax.plot(t, I/1000, 'r', alpha=0.5, lw=2, label='Infected')\n",
    "    ax.plot(t, R/1000, 'g', alpha=0.5, lw=2, label='Recovered with immunity')\n",
    "    ax.set_xlabel('Time /days')\n",
    "    ax.set_ylabel('Number (1000s)')\n",
    "    ax.set_ylim(0,N/1000)\n",
    "    ax.yaxis.set_tick_params(length=0)\n",
    "    ax.xaxis.set_tick_params(length=0)\n",
    "    ax.grid(b=True, which='major', c='w', lw=2, ls='-')\n",
    "    legend = ax.legend()\n",
    "    legend.get_frame().set_alpha(0.5)\n",
    "    for spine in ('top', 'right', 'bottom', 'left'):\n",
    "        ax.spines[spine].set_visible(False)\n",
    "    plt.show()\n",
    "SIR()"
   ]
  },
  {
   "cell_type": "markdown",
   "metadata": {
    "collapsed": true
   },
   "source": [
    "## Extended Part:\n",
    "### Random Walk"
   ]
  },
  {
   "cell_type": "markdown",
   "metadata": {},
   "source": [
    "The evolution of x(t), over time slots indexed by t, can be expressed as follows:\n",
    "![](src/14.png)\n",
    "(v is a given set of numbers, one per node)<br>\n",
    "The solution to it can be expressed through the eigenvector decomposition:\n",
    "![](src/15.jpg)\n",
    "![](src/16.jpg)\n",
    "![](src/17.jpg)\n",
    "which means that the leading term of the error between x(t) and the first-order\n",
    "approximation $c_1\\lambda_1^tv_1$is the second-order term in the eigenvector expansion,\n",
    "with a magnitude that evolves over time t proportional to:$(\\cfrac{\\lambda_2}{\\lambda_1})^t$<br>\n",
    "As a small example, consider the network shown in Figure.consisting of\n",
    "two clusters with a link between them. Each node also has a self-loop.<br>\n",
    "![](src/13.jpg)"
   ]
  },
  {
   "cell_type": "code",
   "execution_count": 16,
   "metadata": {},
   "outputs": [
    {
     "data": {
      "image/png": "[encoded data removed]",
      "text/plain": [
       "<matplotlib.figure.Figure at 0x11b28e898>"
      ]
     },
     "metadata": {},
     "output_type": "display_data"
    },
    {
     "name": "stdout",
     "output_type": "stream",
     "text": [
      "Markov matrix A for graph:\n",
      "[[ 0.25  0.25  0.25  0.25  0.    0.    0.  ]\n",
      " [ 0.25  0.25  0.25  0.25  0.    0.    0.  ]\n",
      " [ 0.25  0.25  0.25  0.25  0.    0.    0.  ]\n",
      " [ 0.2   0.2   0.2   0.2   0.2   0.    0.  ]\n",
      " [ 0.    0.    0.    0.25  0.25  0.25  0.25]\n",
      " [ 0.    0.    0.    0.    0.33  0.33  0.33]\n",
      " [ 0.    0.    0.    0.    0.33  0.33  0.33]]\n"
     ]
    }
   ],
   "source": [
    "H = nx.Graph([(1,1),(1,2),(1,3),(1,4),(2,2),(2,3),(2,4),(3,3),(3,4),(4,4),(4,5),(5,5),(5,6),(5,7),(6,6),(6,7),(7,7)])\n",
    "plt.clf()\n",
    "nx.draw_networkx(H)\n",
    "plt.show()\n",
    "A = nx.attr_matrix(H,normalized=True)[0]\n",
    "print(\"Markov matrix A for graph:\")\n",
    "print(np.around(A,2))"
   ]
  },
  {
   "cell_type": "markdown",
   "metadata": {},
   "source": [
    "Then we iterate the equation:$$x(t)=Ax(t-1)$$\n"
   ]
  },
  {
   "cell_type": "code",
   "execution_count": 17,
   "metadata": {},
   "outputs": [
    {
     "name": "stdout",
     "output_type": "stream",
     "text": [
      "X(0): [[100 100 100 100   0   0   0]]\n",
      "X(1): [[ 100.  100.  100.   80.   25.    0.    0.]]\n",
      "X(2): [[ 95.    95.    95.    81.    26.25   8.33   8.33]]\n",
      "X(3): [[ 91.5   91.5   91.5   78.45  30.98  14.31  14.31]]\n",
      "...\n",
      "X(∞): [[ 62.96  62.96  62.96  62.96  62.96  62.96  62.96]]\n"
     ]
    }
   ],
   "source": [
    "X = np.matrix([100, 100, 100, 100, 0, 0, 0]).T\n",
    "for i in range(100000):\n",
    "    if i in [0,1,2,3]:\n",
    "        print(\"X({}):\".format(i),np.around(np.array(X).T,2))\n",
    "    X = A * X\n",
    "print('...')\n",
    "print(\"X(∞):\",np.around(np.array(X,dtype = np.float64).T,2))"
   ]
  },
  {
   "cell_type": "markdown",
   "metadata": {},
   "source": [
    "We see that the network is strongly connected, i.e., A is irreducible. The existence\n",
    "of self-loops ensures the network is also aperiodic. The scores at equilibrium are biased towards the initial scores of the left cluster because it is the larger\n",
    "cluster."
   ]
  },
  {
   "cell_type": "markdown",
   "metadata": {},
   "source": [
    "### Measuring subgraph connectedness"
   ]
  },
  {
   "cell_type": "code",
   "execution_count": 18,
   "metadata": {},
   "outputs": [
    {
     "data": {
      "image/png": "[encoded data removed]",
      "text/plain": [
       "<matplotlib.figure.Figure at 0x11b10a518>"
      ]
     },
     "metadata": {},
     "output_type": "display_data"
    }
   ],
   "source": [
    "plt.clf()\n",
    "nx.draw_spring(mygraph,with_labels = True)\n",
    "plt.show()"
   ]
  },
  {
   "cell_type": "code",
   "execution_count": 19,
   "metadata": {},
   "outputs": [
    {
     "name": "stdout",
     "output_type": "stream",
     "text": [
      "{1: 3, 2: 3, 3: 4, 4: 3, 5: 2, 6: 2, 7: 3, 8: 2}\n",
      "L = 22\n"
     ]
    }
   ],
   "source": [
    "print(mygraph.degree())\n",
    "L = mygraph.number_of_edges()*2\n",
    "print('L =',L)"
   ]
  },
  {
   "cell_type": "markdown",
   "metadata": {},
   "source": [
    "![](src/20.jpg)"
   ]
  },
  {
   "cell_type": "code",
   "execution_count": 20,
   "metadata": {
    "collapsed": true
   },
   "outputs": [],
   "source": [
    "def modularity(nodelist1, nodelist2):\n",
    "    print('type1:',nodelist1)\n",
    "    print('type2:',nodelist2)\n",
    "    tmp = []\n",
    "    for i in range(1,9):\n",
    "        tmp2 = []\n",
    "        for j in range(1,9):\n",
    "            if i == j:\n",
    "                tmp2.append(0)\n",
    "                continue\n",
    "            if (i in nodelist1 and j in nodelist1) or (i in nodelist2 and j in nodelist2):\n",
    "                tmp2.append(1)\n",
    "            else:\n",
    "                tmp2.append(0)\n",
    "        tmp.append(tmp2)\n",
    "    S = np.matrix(tmp)\n",
    "    print('S:')\n",
    "    print(np.matrix(S))\n",
    "    A = nx.adjacency_matrix(mygraph).todense()\n",
    "    print('A:')\n",
    "    print(A)\n",
    "\n",
    "    Q = 0\n",
    "    for i in range(1,9):\n",
    "        di = mygraph.degree(i)\n",
    "        for j in range(1,9):        \n",
    "            dj = mygraph.degree(j)\n",
    "            Q = Q + S[i-1,j-1]*(A[i-1,j-1]-di*dj/L)\n",
    "    Q = Q/L\n",
    "    print('Q =',Q)"
   ]
  },
  {
   "cell_type": "markdown",
   "metadata": {},
   "source": [
    "![](src/21.jpg)"
   ]
  },
  {
   "cell_type": "code",
   "execution_count": 21,
   "metadata": {},
   "outputs": [
    {
     "name": "stdout",
     "output_type": "stream",
     "text": [
      "type1: [1, 2, 4, 5]\n",
      "type2: [3, 6, 7, 8]\n",
      "S:\n",
      "[[0 1 0 1 1 0 0 0]\n",
      " [1 0 0 1 1 0 0 0]\n",
      " [0 0 0 0 0 1 1 1]\n",
      " [1 1 0 0 1 0 0 0]\n",
      " [1 1 0 1 0 0 0 0]\n",
      " [0 0 1 0 0 0 1 1]\n",
      " [0 0 1 0 0 1 0 1]\n",
      " [0 0 1 0 0 1 1 0]]\n",
      "A:\n",
      "[[0 1 1 1 0 0 0 0]\n",
      " [1 0 0 1 1 0 0 0]\n",
      " [1 0 0 0 0 1 1 1]\n",
      " [1 1 0 0 1 0 0 0]\n",
      " [0 1 0 1 0 0 0 0]\n",
      " [0 0 1 0 0 0 1 0]\n",
      " [0 0 1 0 0 1 0 1]\n",
      " [0 0 1 0 0 0 1 0]]\n",
      "Q = 0.54132231405\n"
     ]
    }
   ],
   "source": [
    "modularity([1,2,4,5],[3,6,7,8])"
   ]
  },
  {
   "cell_type": "markdown",
   "metadata": {},
   "source": [
    "![](src/22.jpg)"
   ]
  },
  {
   "cell_type": "code",
   "execution_count": 22,
   "metadata": {},
   "outputs": [
    {
     "name": "stdout",
     "output_type": "stream",
     "text": [
      "type1: [1, 5, 6, 8]\n",
      "type2: [2, 3, 4, 7]\n",
      "S:\n",
      "[[0 0 0 0 1 1 0 1]\n",
      " [0 0 1 1 0 0 1 0]\n",
      " [0 1 0 1 0 0 1 0]\n",
      " [0 1 1 0 0 0 1 0]\n",
      " [1 0 0 0 0 1 0 1]\n",
      " [1 0 0 0 1 0 0 1]\n",
      " [0 1 1 1 0 0 0 0]\n",
      " [1 0 0 0 1 1 0 0]]\n",
      "A:\n",
      "[[0 1 1 1 0 0 0 0]\n",
      " [1 0 0 1 1 0 0 0]\n",
      " [1 0 0 0 0 1 1 1]\n",
      " [1 1 0 0 1 0 0 0]\n",
      " [0 1 0 1 0 0 0 0]\n",
      " [0 0 1 0 0 0 1 0]\n",
      " [0 0 1 0 0 1 0 1]\n",
      " [0 0 1 0 0 0 1 0]]\n",
      "Q = -0.202479338843\n"
     ]
    }
   ],
   "source": [
    "modularity([1,5,6,8],[2,3,4,7])"
   ]
  },
  {
   "cell_type": "markdown",
   "metadata": {
    "collapsed": true
   },
   "source": [
    "### Hubs and Authorities\n",
    "![](src/23.jpg)"
   ]
  },
  {
   "cell_type": "code",
   "execution_count": 23,
   "metadata": {},
   "outputs": [
    {
     "data": {
      "text/plain": [
       "[('A', {'auth': 1, 'hub': 1}),\n",
       " ('B', {'auth': 1, 'hub': 1}),\n",
       " ('C', {'auth': 1, 'hub': 1}),\n",
       " ('D', {'auth': 1, 'hub': 1}),\n",
       " ('E', {'auth': 1, 'hub': 1}),\n",
       " ('F', {'auth': 1, 'hub': 1}),\n",
       " ('G', {'auth': 1, 'hub': 1}),\n",
       " ('H', {'auth': 1, 'hub': 1})]"
      ]
     },
     "execution_count": 23,
     "metadata": {},
     "output_type": "execute_result"
    }
   ],
   "source": [
    "HA = nx.DiGraph()\n",
    "HA.add_nodes_from(['A','B','C','D','E','F','G','H'],auth = 1, hub =1)\n",
    "HA.add_edges_from([('A','D'),('B','C'),('B','E'),('C','A'),('D','B'),\n",
    "                 ('D','C'),('E','B'),('E','C'),('E','F'),('E','D'),\n",
    "                 ('F','C'),('F','H'),('G','C'),('G','A'),('H','A')])\n",
    "Root = ['A','B','C']\n",
    "Base = HA.nodes()\n",
    "HA.nodes(data=True)"
   ]
  },
  {
   "cell_type": "code",
   "execution_count": 24,
   "metadata": {},
   "outputs": [
    {
     "data": {
      "image/png": "[encoded data removed]",
      "text/plain": [
       "<matplotlib.figure.Figure at 0x11b0642b0>"
      ]
     },
     "metadata": {},
     "output_type": "display_data"
    }
   ],
   "source": [
    "plt.clf()\n",
    "nx.draw_spring(HA,with_labels = True)\n",
    "plt.show()"
   ]
  },
  {
   "cell_type": "code",
   "execution_count": 25,
   "metadata": {},
   "outputs": [
    {
     "name": "stdout",
     "output_type": "stream",
     "text": [
      "iterator 1 times:\n",
      "A: auth =0.20 hub =0.07\n",
      "B: auth =0.13 hub =0.13\n",
      "C: auth =0.33 hub =0.07\n",
      "D: auth =0.13 hub =0.13\n",
      "E: auth =0.07 hub =0.27\n",
      "F: auth =0.07 hub =0.13\n",
      "G: auth =0.00 hub =0.13\n",
      "H: auth =0.07 hub =0.07\n",
      "iterator 2 times:\n",
      "A: auth =0.11 hub =0.04\n",
      "B: auth =0.17 hub =0.13\n",
      "C: auth =0.34 hub =0.07\n",
      "D: auth =0.14 hub =0.16\n",
      "E: auth =0.06 hub =0.22\n",
      "F: auth =0.11 hub =0.13\n",
      "G: auth =0.00 hub =0.18\n",
      "H: auth =0.06 hub =0.07\n",
      "iterator 3 times:\n",
      "A: auth =0.14 hub =0.05\n",
      "B: auth =0.17 hub =0.14\n",
      "C: auth =0.36 hub =0.04\n",
      "D: auth =0.12 hub =0.18\n",
      "E: auth =0.06 hub =0.26\n",
      "F: auth =0.10 hub =0.14\n",
      "G: auth =0.00 hub =0.16\n",
      "H: auth =0.06 hub =0.04\n",
      "iterator 4 times:\n",
      "A: auth =0.10 hub =0.04\n",
      "B: auth =0.18 hub =0.14\n",
      "C: auth =0.36 hub =0.05\n",
      "D: auth =0.13 hub =0.18\n",
      "E: auth =0.06 hub =0.25\n",
      "F: auth =0.11 hub =0.14\n",
      "G: auth =0.00 hub =0.17\n",
      "H: auth =0.06 hub =0.05\n",
      "......\n",
      "iterator ∞ times:\n",
      "A: auth =0.09 hub =0.04\n",
      "B: auth =0.19 hub =0.14\n",
      "C: auth =0.37 hub =0.03\n",
      "D: auth =0.13 hub =0.19\n",
      "E: auth =0.06 hub =0.27\n",
      "F: auth =0.11 hub =0.14\n",
      "G: auth =0.00 hub =0.15\n",
      "H: auth =0.06 hub =0.03\n"
     ]
    },
    {
     "data": {
      "image/png": "[encoded data removed]",
      "text/plain": [
       "<matplotlib.figure.Figure at 0x11b00f240>"
      ]
     },
     "metadata": {},
     "output_type": "display_data"
    }
   ],
   "source": [
    "draw = [[],[]]\n",
    "for k in range(1,100):    \n",
    "    old_data = copy.deepcopy(HA.nodes(data=True))\n",
    "    for _node in Base:\n",
    "        HA.node[_node]['auth'] = 0\n",
    "        HA.node[_node]['hub'] = 0\n",
    "        nodes_point_to_it = HA.predecessors(_node)\n",
    "        nodes_it_point_to = HA.successors(_node)\n",
    "        for to_it in nodes_point_to_it:\n",
    "            ind = Base.index(to_it)\n",
    "            old_hub = old_data[ind][1]['hub']\n",
    "            HA.node[_node]['auth'] = HA.node[_node]['auth']+old_hub\n",
    "        for it_to in nodes_it_point_to:\n",
    "            ind = Base.index(it_to)\n",
    "            old_auth = old_data[ind][1]['auth']\n",
    "            HA.node[_node]['hub'] = HA.node[_node]['hub']+old_auth\n",
    "\n",
    "    auth_sum = 0\n",
    "    hub_sum = 0\n",
    "    for _node in Base:\n",
    "        auth_sum = auth_sum + HA.node[_node]['auth']\n",
    "        hub_sum = hub_sum + HA.node[_node]['hub']\n",
    "    for _node in Base:\n",
    "        HA.node[_node]['auth'] = HA.node[_node]['auth']/auth_sum\n",
    "        HA.node[_node]['hub'] = HA.node[_node]['hub']/hub_sum\n",
    "    draw[0].append(HA.node['A']['auth'])\n",
    "    draw[1].append(HA.node['A']['hub'])\n",
    "    if k in [1,2,3,4]:\n",
    "        print('iterator {} times:'.format(k))\n",
    "        for node in HA.nodes(data=True):\n",
    "            print(node[0]+\": \",end='')\n",
    "            print('auth ={:.2f}'.format(node[1]['auth']),end=' ')\n",
    "            print('hub ={:.2f}'.format(node[1]['hub']))\n",
    "print('......')\n",
    "print('iterator ∞ times:')\n",
    "for node in HA.nodes(data=True):\n",
    "    print(node[0]+\": \",end='')\n",
    "    print('auth ={:.2f}'.format(node[1]['auth']),end=' ')\n",
    "    print('hub ={:.2f}'.format(node[1]['hub']))\n",
    "fig = plt.figure(facecolor='w')\n",
    "ax = fig.add_subplot(111,axis_bgcolor='#dddddd', axisbelow=True)\n",
    "ax.plot(range(1,100),draw[0],label=\"auth\")\n",
    "ax.plot(range(1,100),draw[1],label=\"hub\")\n",
    "plt.xlabel('iterator times')\n",
    "plt.ylabel('value')\n",
    "plt.show()"
   ]
  },
  {
   "cell_type": "markdown",
   "metadata": {},
   "source": [
    "### Comparing Centrality Measures\n",
    "![](src/24.png)"
   ]
  },
  {
   "cell_type": "code",
   "execution_count": 26,
   "metadata": {},
   "outputs": [
    {
     "data": {
      "image/png": "[encoded data removed]",
      "text/plain": [
       "<matplotlib.figure.Figure at 0x117d41b00>"
      ]
     },
     "metadata": {},
     "output_type": "display_data"
    }
   ],
   "source": [
    "CC = nx.DiGraph([(1,2),(2,1),(1,5),(5,1),(2,3),\n",
    "                 (3,2),(2,4),(3,4),(4,3),(3,1),\n",
    "                 (4,1),(5,6),(6,5),(6,7),(7,6),\n",
    "                 (7,8),(7,9),(8,7),(8,6),(8,9),\n",
    "                 (9,8),(9,6)])\n",
    "plt.clf()\n",
    "nx.draw_spring(CC,with_labels = True)\n",
    "plt.show()"
   ]
  },
  {
   "cell_type": "code",
   "execution_count": 27,
   "metadata": {},
   "outputs": [
    {
     "data": {
      "text/plain": [
       "{1: 0.5, 2: 0.25, 3: 0.25, 4: 0.25, 5: 0.25, 6: 0.5, 7: 0.25, 8: 0.25, 9: 0.25}"
      ]
     },
     "execution_count": 27,
     "metadata": {},
     "output_type": "execute_result"
    }
   ],
   "source": [
    "nx.in_degree_centrality(CC)"
   ]
  },
  {
   "cell_type": "code",
   "execution_count": 28,
   "metadata": {},
   "outputs": [
    {
     "data": {
      "image/png": "[encoded data removed]",
      "text/plain": [
       "<matplotlib.figure.Figure at 0x117d41128>"
      ]
     },
     "metadata": {},
     "output_type": "display_data"
    }
   ],
   "source": [
    "degrees = CC.in_degree()\n",
    "degree_values = sorted(set(degrees.values()))\n",
    "histogram =[list(degrees.values()).count(i)/float(nx.number_of_nodes(CC)) for i in degree_values]\n",
    "plt.bar(degree_values,histogram)\n",
    "plt.xlabel('Degree')\n",
    "plt.ylabel('Fraction of Nodes')\n",
    "plt.show()"
   ]
  },
  {
   "cell_type": "code",
   "execution_count": 29,
   "metadata": {},
   "outputs": [
    {
     "data": {
      "text/plain": [
       "{1: 0.42105263157894735,\n",
       " 2: 0.36363636363636365,\n",
       " 3: 0.36363636363636365,\n",
       " 4: 0.34782608695652173,\n",
       " 5: 0.4444444444444444,\n",
       " 6: 0.42105263157894735,\n",
       " 7: 0.36363636363636365,\n",
       " 8: 0.36363636363636365,\n",
       " 9: 0.34782608695652173}"
      ]
     },
     "execution_count": 29,
     "metadata": {},
     "output_type": "execute_result"
    }
   ],
   "source": [
    "nx.closeness_centrality(CC)"
   ]
  },
  {
   "cell_type": "code",
   "execution_count": 30,
   "metadata": {},
   "outputs": [
    {
     "data": {
      "text/plain": [
       "{1: 0.5446428571428571,\n",
       " 2: 0.21428571428571427,\n",
       " 3: 0.008928571428571428,\n",
       " 4: 0.0,\n",
       " 5: 0.5714285714285714,\n",
       " 6: 0.5446428571428571,\n",
       " 7: 0.21428571428571427,\n",
       " 8: 0.008928571428571428,\n",
       " 9: 0.0}"
      ]
     },
     "execution_count": 30,
     "metadata": {},
     "output_type": "execute_result"
    }
   ],
   "source": [
    "nx.betweenness_centrality(CC)"
   ]
  },
  {
   "cell_type": "code",
   "execution_count": 31,
   "metadata": {},
   "outputs": [
    {
     "data": {
      "text/plain": [
       "({1: 0.03159167433704516,\n",
       "  2: 0.1484870508510458,\n",
       "  3: 0.13613104446713567,\n",
       "  4: 0.1095467049192504,\n",
       "  5: 0.1484870508510458,\n",
       "  6: 0.03159167433704516,\n",
       "  7: 0.1484870508510458,\n",
       "  8: 0.13613104446713564,\n",
       "  9: 0.1095467049192504},\n",
       " {1: 0.21121135254127466,\n",
       "  2: 0.06528116009772789,\n",
       "  3: 0.10043208814696536,\n",
       "  4: 0.1107792643943093,\n",
       "  5: 0.02459226963944558,\n",
       "  6: 0.21121135254127466,\n",
       "  7: 0.06528116009772789,\n",
       "  8: 0.10043208814696536,\n",
       "  9: 0.1107792643943093})"
      ]
     },
     "execution_count": 31,
     "metadata": {},
     "output_type": "execute_result"
    }
   ],
   "source": [
    "nx.hits(CC)"
   ]
  },
  {
   "cell_type": "markdown",
   "metadata": {},
   "source": [
    "Then we summarize these and make a rank table\n",
    "![](src/25.png)"
   ]
  },
  {
   "cell_type": "markdown",
   "metadata": {
    "collapsed": true
   },
   "source": [
    "### Link Prediction Problem\n",
    "![](src/26.png)"
   ]
  },
  {
   "cell_type": "code",
   "execution_count": 32,
   "metadata": {
    "collapsed": true
   },
   "outputs": [],
   "source": [
    "LP = nx.Graph([('A','B'),('A','D'),('A','E'),('B','C'),('B','D'),\n",
    "               ('C','D'),('C','F'),('E','F'),('E','G'),('F','G'),\n",
    "               ('G','H'),('G','I')])"
   ]
  },
  {
   "attachments": {},
   "cell_type": "markdown",
   "metadata": {},
   "source": [
    "#### Measure 1: Common Neighbors\n",
    "![](src/28.png)"
   ]
  },
  {
   "cell_type": "code",
   "execution_count": 33,
   "metadata": {},
   "outputs": [
    {
     "name": "stdout",
     "output_type": "stream",
     "text": [
      "('A', 'C', 2)\n",
      "('H', 'E', 1)\n",
      "('H', 'I', 1)\n",
      "('H', 'F', 1)\n",
      "('A', 'G', 1)\n",
      "('A', 'F', 1)\n",
      "('E', 'B', 1)\n",
      "('E', 'D', 1)\n",
      "('E', 'C', 1)\n",
      "('E', 'I', 1)\n",
      "('C', 'G', 1)\n",
      "('D', 'F', 1)\n",
      "('I', 'F', 1)\n",
      "('B', 'F', 1)\n",
      "('H', 'A', 0)\n",
      "('H', 'C', 0)\n",
      "('H', 'D', 0)\n",
      "('H', 'B', 0)\n",
      "('A', 'I', 0)\n",
      "('C', 'I', 0)\n",
      "('G', 'B', 0)\n",
      "('G', 'D', 0)\n",
      "('D', 'I', 0)\n",
      "('I', 'B', 0)\n"
     ]
    }
   ],
   "source": [
    "common_neigh = [(e[0], e[1], len(list(nx.common_neighbors(LP, e[0], e[1])))) for e in nx.non_edges(LP)]\n",
    "common_neigh.sort(key=operator.itemgetter(2), reverse = True)\n",
    "for i in common_neigh:\n",
    "    print(i)"
   ]
  },
  {
   "cell_type": "markdown",
   "metadata": {},
   "source": [
    "#### Measure 2: Jaccard Coefficient\n",
    "![](src/29.png)"
   ]
  },
  {
   "cell_type": "code",
   "execution_count": 34,
   "metadata": {},
   "outputs": [
    {
     "name": "stdout",
     "output_type": "stream",
     "text": [
      "('H', 'I', 1.0)\n",
      "('A', 'C', 0.5)\n",
      "('H', 'E', 0.3333333333333333)\n",
      "('H', 'F', 0.3333333333333333)\n",
      "('E', 'I', 0.3333333333333333)\n",
      "('I', 'F', 0.3333333333333333)\n",
      "('A', 'F', 0.2)\n",
      "('E', 'B', 0.2)\n",
      "('E', 'D', 0.2)\n",
      "('E', 'C', 0.2)\n",
      "('D', 'F', 0.2)\n",
      "('B', 'F', 0.2)\n",
      "('A', 'G', 0.16666666666666666)\n",
      "('C', 'G', 0.16666666666666666)\n",
      "('H', 'A', 0.0)\n",
      "('H', 'C', 0.0)\n",
      "('H', 'D', 0.0)\n",
      "('H', 'B', 0.0)\n",
      "('A', 'I', 0.0)\n",
      "('C', 'I', 0.0)\n",
      "('G', 'B', 0.0)\n",
      "('G', 'D', 0.0)\n",
      "('D', 'I', 0.0)\n",
      "('I', 'B', 0.0)\n"
     ]
    }
   ],
   "source": [
    "Jaccard = list(nx.jaccard_coefficient(LP))\n",
    "Jaccard.sort(key=operator.itemgetter(2), reverse = True)\n",
    "for i in Jaccard:\n",
    "    print(i)"
   ]
  },
  {
   "cell_type": "markdown",
   "metadata": {},
   "source": [
    "#### Measure 3: Resource Allocation\n",
    "![](src/30.png)"
   ]
  },
  {
   "cell_type": "code",
   "execution_count": 35,
   "metadata": {},
   "outputs": [
    {
     "name": "stdout",
     "output_type": "stream",
     "text": [
      "('A', 'C', 0.6666666666666666)\n",
      "('A', 'G', 0.3333333333333333)\n",
      "('A', 'F', 0.3333333333333333)\n",
      "('E', 'B', 0.3333333333333333)\n",
      "('E', 'D', 0.3333333333333333)\n",
      "('E', 'C', 0.3333333333333333)\n",
      "('C', 'G', 0.3333333333333333)\n",
      "('D', 'F', 0.3333333333333333)\n",
      "('B', 'F', 0.3333333333333333)\n",
      "('H', 'E', 0.25)\n",
      "('H', 'I', 0.25)\n",
      "('H', 'F', 0.25)\n",
      "('E', 'I', 0.25)\n",
      "('I', 'F', 0.25)\n",
      "('H', 'A', 0)\n",
      "('H', 'C', 0)\n",
      "('H', 'D', 0)\n",
      "('H', 'B', 0)\n",
      "('A', 'I', 0)\n",
      "('C', 'I', 0)\n",
      "('G', 'B', 0)\n",
      "('G', 'D', 0)\n",
      "('D', 'I', 0)\n",
      "('I', 'B', 0)\n"
     ]
    }
   ],
   "source": [
    "RA = list(nx.resource_allocation_index(LP))\n",
    "RA.sort(key=operator.itemgetter(2), reverse = True)\n",
    "for i in RA:\n",
    "    print(i)"
   ]
  },
  {
   "cell_type": "markdown",
   "metadata": {},
   "source": [
    "#### Measure 4: Adamic-Adar Index\n",
    "![](src/31.png)"
   ]
  },
  {
   "cell_type": "code",
   "execution_count": 36,
   "metadata": {},
   "outputs": [
    {
     "name": "stdout",
     "output_type": "stream",
     "text": [
      "('A', 'C', 1.8204784532536746)\n",
      "('A', 'G', 0.9102392266268373)\n",
      "('A', 'F', 0.9102392266268373)\n",
      "('E', 'B', 0.9102392266268373)\n",
      "('E', 'D', 0.9102392266268373)\n",
      "('E', 'C', 0.9102392266268373)\n",
      "('C', 'G', 0.9102392266268373)\n",
      "('D', 'F', 0.9102392266268373)\n",
      "('B', 'F', 0.9102392266268373)\n",
      "('H', 'E', 0.7213475204444817)\n",
      "('H', 'I', 0.7213475204444817)\n",
      "('H', 'F', 0.7213475204444817)\n",
      "('E', 'I', 0.7213475204444817)\n",
      "('I', 'F', 0.7213475204444817)\n",
      "('H', 'A', 0)\n",
      "('H', 'C', 0)\n",
      "('H', 'D', 0)\n",
      "('H', 'B', 0)\n",
      "('A', 'I', 0)\n",
      "('C', 'I', 0)\n",
      "('G', 'B', 0)\n",
      "('G', 'D', 0)\n",
      "('D', 'I', 0)\n",
      "('I', 'B', 0)\n"
     ]
    }
   ],
   "source": [
    "adamic = list(nx.adamic_adar_index(LP))\n",
    "adamic.sort(key=operator.itemgetter(2), reverse = True)\n",
    "for i in adamic:\n",
    "    print(i)"
   ]
  },
  {
   "cell_type": "markdown",
   "metadata": {},
   "source": [
    "#### Measure 5: Pref. Attachment\n",
    "![](src/32.png)"
   ]
  },
  {
   "cell_type": "code",
   "execution_count": 37,
   "metadata": {},
   "outputs": [
    {
     "name": "stdout",
     "output_type": "stream",
     "text": [
      "('A', 'G', 12)\n",
      "('C', 'G', 12)\n",
      "('G', 'B', 12)\n",
      "('G', 'D', 12)\n",
      "('A', 'F', 9)\n",
      "('A', 'C', 9)\n",
      "('E', 'B', 9)\n",
      "('E', 'D', 9)\n",
      "('E', 'C', 9)\n",
      "('D', 'F', 9)\n",
      "('B', 'F', 9)\n",
      "('H', 'A', 3)\n",
      "('H', 'E', 3)\n",
      "('H', 'C', 3)\n",
      "('H', 'D', 3)\n",
      "('H', 'B', 3)\n",
      "('H', 'F', 3)\n",
      "('A', 'I', 3)\n",
      "('E', 'I', 3)\n",
      "('C', 'I', 3)\n",
      "('D', 'I', 3)\n",
      "('I', 'B', 3)\n",
      "('I', 'F', 3)\n",
      "('H', 'I', 1)\n"
     ]
    }
   ],
   "source": [
    "Attachment = list(nx.preferential_attachment(LP))\n",
    "Attachment.sort(key=operator.itemgetter(2), reverse = True)\n",
    "for i in Attachment:\n",
    "    print(i)"
   ]
  },
  {
   "cell_type": "markdown",
   "metadata": {},
   "source": [
    "#### community structure\n",
    "![](src/27.png)"
   ]
  },
  {
   "cell_type": "code",
   "execution_count": 38,
   "metadata": {
    "collapsed": true
   },
   "outputs": [],
   "source": [
    "LP.node['A']['community'] = 0\n",
    "LP.node['B']['community'] = 0\n",
    "LP.node['C']['community'] = 0\n",
    "LP.node['D']['community'] = 0\n",
    "LP.node['E']['community'] = 1\n",
    "LP.node['F']['community'] = 1\n",
    "LP.node['G']['community'] = 1\n",
    "LP.node['H']['community'] = 1\n",
    "LP.node['I']['community'] = 1"
   ]
  },
  {
   "cell_type": "markdown",
   "metadata": {},
   "source": [
    "#### Measure 6: Community Common Neighbors\n",
    "![](src/33.png)"
   ]
  },
  {
   "cell_type": "code",
   "execution_count": 39,
   "metadata": {},
   "outputs": [
    {
     "name": "stdout",
     "output_type": "stream",
     "text": [
      "('A', 'C', 4)\n",
      "('H', 'E', 2)\n",
      "('H', 'I', 2)\n",
      "('H', 'F', 2)\n",
      "('E', 'I', 2)\n",
      "('I', 'F', 2)\n",
      "('A', 'G', 1)\n",
      "('A', 'F', 1)\n",
      "('E', 'B', 1)\n",
      "('E', 'D', 1)\n",
      "('E', 'C', 1)\n",
      "('C', 'G', 1)\n",
      "('D', 'F', 1)\n",
      "('B', 'F', 1)\n",
      "('H', 'A', 0)\n",
      "('H', 'C', 0)\n",
      "('H', 'D', 0)\n",
      "('H', 'B', 0)\n",
      "('A', 'I', 0)\n",
      "('C', 'I', 0)\n",
      "('G', 'B', 0)\n",
      "('G', 'D', 0)\n",
      "('D', 'I', 0)\n",
      "('I', 'B', 0)\n"
     ]
    }
   ],
   "source": [
    "CCN = list(nx.cn_soundarajan_hopcroft(LP))\n",
    "CCN.sort(key=operator.itemgetter(2), reverse = True)\n",
    "for i in CCN:\n",
    "    print(i)"
   ]
  },
  {
   "cell_type": "markdown",
   "metadata": {},
   "source": [
    "#### Measure 7: Community Resource Allocation\n",
    "![](src/34.png)"
   ]
  },
  {
   "cell_type": "code",
   "execution_count": 40,
   "metadata": {},
   "outputs": [
    {
     "name": "stdout",
     "output_type": "stream",
     "text": [
      "('A', 'C', 0.6666666666666666)\n",
      "('H', 'E', 0.25)\n",
      "('H', 'I', 0.25)\n",
      "('H', 'F', 0.25)\n",
      "('E', 'I', 0.25)\n",
      "('I', 'F', 0.25)\n",
      "('H', 'A', 0)\n",
      "('H', 'C', 0)\n",
      "('H', 'D', 0)\n",
      "('H', 'B', 0)\n",
      "('A', 'G', 0)\n",
      "('A', 'F', 0)\n",
      "('A', 'I', 0)\n",
      "('E', 'B', 0)\n",
      "('E', 'D', 0)\n",
      "('E', 'C', 0)\n",
      "('C', 'G', 0)\n",
      "('C', 'I', 0)\n",
      "('G', 'B', 0)\n",
      "('G', 'D', 0)\n",
      "('D', 'F', 0)\n",
      "('D', 'I', 0)\n",
      "('I', 'B', 0)\n",
      "('B', 'F', 0)\n"
     ]
    }
   ],
   "source": [
    "CRA = list(nx.ra_index_soundarajan_hopcroft(LP))\n",
    "CRA.sort(key=operator.itemgetter(2), reverse = True)\n",
    "for i in CRA:\n",
    "    print(i)"
   ]
  },
  {
   "cell_type": "markdown",
   "metadata": {},
   "source": [
    "# END"
   ]
  }
 ],
 "metadata": {
  "kernelspec": {
   "display_name": "Python 3",
   "language": "python",
   "name": "python3"
  },
  "language_info": {
   "codemirror_mode": {
    "name": "ipython",
    "version": 3
   },
   "file_extension": ".py",
   "mimetype": "text/x-python",
   "name": "python",
   "nbconvert_exporter": "python",
   "pygments_lexer": "ipython3",
   "version": "3.6.1"
  }
 },
 "nbformat": 4,
 "nbformat_minor": 2
}
