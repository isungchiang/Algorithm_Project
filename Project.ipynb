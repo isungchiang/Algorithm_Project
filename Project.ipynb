{
 "cells": [
  {
   "cell_type": "markdown",
   "metadata": {},
   "source": [
    "# COMP4121 Project - How do I influence people on online social network?\n",
    "###### created by yisong jiang(z5123920)"
   ]
  },
  {
   "cell_type": "markdown",
   "metadata": {},
   "source": [
    "## What's in this notebook? How to read it?\n",
    "All the implementing, examples, testings of this project.\n",
    "<br>The cell with in[] is python code cell that can be run and running result will be below of it"
   ]
  },
  {
   "attachments": {},
   "cell_type": "markdown",
   "metadata": {},
   "source": [
    "## Topology Based Influence Models\n",
    "### Measuring node importance\n",
    "We now use the example network in the textbook to calculate the 4 approaches to measure node importance\n",
    "![](src/1.png)"
   ]
  },
  {
   "cell_type": "code",
   "execution_count": 90,
   "metadata": {
    "collapsed": true
   },
   "outputs": [],
   "source": [
    "#import the modules that we will use in this project\n",
    "import numpy as np\n",
    "import math\n",
    "from scipy.integrate import odeint\n",
    "import matplotlib.pyplot as plt\n",
    "import warnings\n",
    "import networkx as nx\n",
    "warnings.filterwarnings(\"ignore\")"
   ]
  },
  {
   "cell_type": "markdown",
   "metadata": {},
   "source": [
    "### build my own graph and define implement functions "
   ]
  },
  {
   "cell_type": "code",
   "execution_count": 19,
   "metadata": {
    "collapsed": true
   },
   "outputs": [],
   "source": [
    "# simply bidirected node\n",
    "class node():\n",
    "    def __init__(self,value,name):\n",
    "        self.value = value\n",
    "        self.connected_nodes = []\n",
    "        self.name = name\n",
    "# general setup\n",
    "# add nodes into the graph as well as their neighbours\n",
    "node1 = node(1,'N1')\n",
    "node2 = node(2,'N2')\n",
    "node3 = node(3,'N3')\n",
    "node4 = node(4,'N4')\n",
    "node5 = node(5,'N5')\n",
    "node6 = node(6,'N6')\n",
    "node7 = node(7,'N7')\n",
    "node8 = node(8,'N8')\n",
    "node1.connected_nodes.extend([node2,node3,node4])\n",
    "node2.connected_nodes.extend([node1,node4,node5])\n",
    "node3.connected_nodes.extend([node1,node6,node7,node8])\n",
    "node4.connected_nodes.extend([node1,node2,node5])\n",
    "node5.connected_nodes.extend([node2,node4])\n",
    "node6.connected_nodes.extend([node7,node3])\n",
    "node7.connected_nodes.extend([node6,node3,node8])\n",
    "node8.connected_nodes.extend([node7,node3])\n",
    "\n",
    "nodelist = [node1,node2,node3,node4,node5,node6,node7,node8]\n",
    "num_node = len(nodelist)\n"
   ]
  },
  {
   "cell_type": "code",
   "execution_count": 23,
   "metadata": {},
   "outputs": [
    {
     "name": "stdout",
     "output_type": "stream",
     "text": [
      "Adjacency matrix:\n",
      "[[0 1 1 1 0 0 0 0]\n",
      " [1 0 0 1 1 0 0 0]\n",
      " [1 0 0 0 0 1 1 1]\n",
      " [1 1 0 0 1 0 0 0]\n",
      " [0 1 0 1 0 0 0 0]\n",
      " [0 0 1 0 0 0 1 0]\n",
      " [0 0 1 0 0 1 0 1]\n",
      " [0 0 1 0 0 0 1 0]]\n"
     ]
    }
   ],
   "source": [
    "# adjacency matrix\n",
    "def adjacency():\n",
    "    adjacency = []\n",
    "    for nd in nodelist:\n",
    "        adj_vector = []\n",
    "        for ond in nodelist:\n",
    "            if (ond in nd.connected_nodes):\n",
    "                adj_vector.append(1)\n",
    "            else:\n",
    "                adj_vector.append(0)\n",
    "        adjacency.append(adj_vector)\n",
    "    adjacency = np.matrix(adjacency)\n",
    "    w,v =np.linalg.eig(adjacency)\n",
    "    print(\"Adjacency matrix:\")\n",
    "    print(adjacency)\n",
    "adjacency()"
   ]
  },
  {
   "attachments": {},
   "cell_type": "markdown",
   "metadata": {},
   "source": [
    "Eigenvector centrality\n",
    "![](src/2.png)"
   ]
  },
  {
   "cell_type": "code",
   "execution_count": 21,
   "metadata": {},
   "outputs": [
    {
     "name": "stdout",
     "output_type": "stream",
     "text": [
      "Largest eigenvalue: 2.87227621285\n",
      "Eigenvector centrality for nodes:\n",
      " [[ 0.40631618  0.34551743  0.47601744  0.34551743  0.24058789  0.29492475\n",
      "   0.37108789  0.29492475]]\n"
     ]
    }
   ],
   "source": [
    "#Eigenvector centrality\n",
    "w,v =np.linalg.eig(adjacency)\n",
    "print(\"Largest eigenvalue:\",w[0])\n",
    "print(\"Eigenvector centrality for nodes:\\n\",v.T[0][0])"
   ]
  },
  {
   "cell_type": "code",
   "execution_count": 24,
   "metadata": {},
   "outputs": [
    {
     "name": "stdout",
     "output_type": "stream",
     "text": [
      "Length of shortest path between two nodes:\n",
      "D12: 1 D13: 1 D14: 1 D15: 2 D16: 2 D17: 2 D18: 2 \n",
      "D21: 1 D23: 2 D24: 1 D25: 1 D26: 3 D27: 3 D28: 3 \n",
      "D31: 1 D32: 2 D34: 2 D35: 3 D36: 1 D37: 1 D38: 1 \n",
      "D41: 1 D42: 1 D43: 2 D45: 1 D46: 3 D47: 3 D48: 3 \n",
      "D51: 2 D52: 1 D53: 3 D54: 1 D56: 4 D57: 4 D58: 4 \n",
      "D61: 2 D62: 3 D63: 1 D64: 3 D65: 4 D67: 1 D68: 2 \n",
      "D71: 2 D72: 3 D73: 1 D74: 3 D75: 4 D76: 1 D78: 1 \n",
      "D81: 2 D82: 3 D83: 1 D84: 3 D85: 4 D86: 2 D87: 1 \n"
     ]
    }
   ],
   "source": [
    "def shortest_path(start,end):\n",
    "    if start == end:\n",
    "        return 0,'X','X'\n",
    "    path = [[start]]\n",
    "    while(True):\n",
    "        allnode = []\n",
    "        for subpath in path:\n",
    "            allnode.extend(subpath)\n",
    "        if end in allnode:\n",
    "            break\n",
    "        newpath = []\n",
    "        for subpath in path:\n",
    "            lastnode = subpath[-1]\n",
    "            for node in lastnode.connected_nodes:\n",
    "                if not node in subpath:\n",
    "                    newpath.append(subpath+[node])\n",
    "        path = newpath\n",
    "    path_with_name = []\n",
    "    for subpath in path:\n",
    "        if not end in subpath:\n",
    "            continue\n",
    "        sub = []\n",
    "        for s in subpath:\n",
    "            sub.append(s.name)\n",
    "        path_with_name.append(sub)\n",
    "    num_of_shortest_path = len(path_with_name)\n",
    "    length_of_shortest_path = len(path_with_name[0])-1\n",
    "    return length_of_shortest_path,num_of_shortest_path,path_with_name\n",
    "\n",
    "print(\"Length of shortest path between two nodes:\")\n",
    "for i in range(num_node):\n",
    "    for j in range(num_node):\n",
    "        if not i == j:\n",
    "            length,_,_ = shortest_path(nodelist[i],nodelist[j])\n",
    "            print(\"D\"+str(i+1)+str(j+1)+\":\",length,end = ' ')\n",
    "    print()\n",
    "            "
   ]
  },
  {
   "attachments": {},
   "cell_type": "markdown",
   "metadata": {},
   "source": [
    "![](src/3.png)"
   ]
  },
  {
   "cell_type": "code",
   "execution_count": 33,
   "metadata": {},
   "outputs": [
    {
     "name": "stdout",
     "output_type": "stream",
     "text": [
      "closeness_centrality for nodes:\n",
      "[0.6363636363636364, 0.5, 0.6363636363636364, 0.5, 0.3684210526315789, 0.4375, 0.4666666666666667, 0.4375]\n",
      "matrix G for nodes:\n",
      "[['X' '1' '1' '1' '2' '1' '1' '1']\n",
      " ['1' 'X' '1' '1' '1' '1' '1' '1']\n",
      " ['1' '1' 'X' '1' '2' '1' '1' '1']\n",
      " ['1' '1' '1' 'X' '1' '1' '1' '1']\n",
      " ['2' '1' '2' '1' 'X' '2' '2' '2']\n",
      " ['1' '1' '1' '1' '2' 'X' '1' '2']\n",
      " ['1' '1' '1' '1' '2' '1' 'X' '1']\n",
      " ['1' '1' '1' '1' '2' '2' '1' 'X']]\n"
     ]
    }
   ],
   "source": [
    "closeness_centrality = []\n",
    "G = []\n",
    "for node in nodelist:\n",
    "    num_other_node = num_node-1\n",
    "    len_sum = 0\n",
    "    tmp = []\n",
    "    for other_node in nodelist:\n",
    "        length,num,_ = shortest_path(node,other_node)\n",
    "        len_sum = len_sum + length\n",
    "        tmp.append(num)\n",
    "    G.append(tmp)\n",
    "    closeness_centrality.append(num_other_node/len_sum)\n",
    "print(\"closeness_centrality for nodes:\")\n",
    "print(closeness_centrality)\n",
    "print(\"matrix G for nodes:\")\n",
    "G = np.matrix(G)\n",
    "print(G)"
   ]
  },
  {
   "cell_type": "code",
   "execution_count": 34,
   "metadata": {},
   "outputs": [
    {
     "name": "stdout",
     "output_type": "stream",
     "text": [
      "N1:\n",
      " [['X' 'X' 'X' 'X' 'X' 'X' 'X' 'X']\n",
      " ['X' 'X' '1' '0' '0' '1' '1' '1']\n",
      " ['X' '1' 'X' '1' '2' '0' '0' '0']\n",
      " ['X' '0' '1' 'X' '0' '1' '1' '1']\n",
      " ['X' '0' '2' '0' 'X' '2' '2' '2']\n",
      " ['X' '1' '0' '1' '2' 'X' '0' '0']\n",
      " ['X' '1' '0' '1' '2' '0' 'X' '0']\n",
      " ['X' '1' '0' '1' '2' '0' '0' 'X']]\n",
      "N2:\n",
      " [['X' 'X' '0' '0' '1' '0' '0' '0']\n",
      " ['X' 'X' 'X' 'X' 'X' 'X' 'X' 'X']\n",
      " ['0' 'X' 'X' '0' '1' '0' '0' '0']\n",
      " ['0' 'X' '0' 'X' '0' '0' '0' '0']\n",
      " ['1' 'X' '1' '0' 'X' '1' '1' '1']\n",
      " ['0' 'X' '0' '0' '1' 'X' '0' '0']\n",
      " ['0' 'X' '0' '0' '1' '0' 'X' '0']\n",
      " ['0' 'X' '0' '0' '1' '0' '0' 'X']]\n"
     ]
    }
   ],
   "source": [
    "def num_in_path(target):\n",
    "    N = []\n",
    "    for node in nodelist:\n",
    "        length = len(nodelist)\n",
    "        if node == target:\n",
    "            N.append(length*['X'])\n",
    "            continue\n",
    "        tmp = []\n",
    "        for othernode in nodelist:\n",
    "            if othernode == target or othernode == node:\n",
    "                tmp.append('X')\n",
    "                continue\n",
    "            count = 0\n",
    "            _,_,paths = shortest_path(node,othernode)\n",
    "            for subpath in paths:\n",
    "                if target.name in subpath:\n",
    "                    count = count+1\n",
    "            tmp.append(count)\n",
    "        N.append(tmp)\n",
    "    N = np.matrix(N)\n",
    "    return N\n",
    "print('N1:\\n',num_in_path(node1))\n",
    "print('N2:\\n',num_in_path(node2))"
   ]
  },
  {
   "attachments": {},
   "cell_type": "markdown",
   "metadata": {},
   "source": [
    "![](src/4.png)"
   ]
  },
  {
   "cell_type": "code",
   "execution_count": 189,
   "metadata": {},
   "outputs": [
    {
     "name": "stdout",
     "output_type": "stream",
     "text": [
      "B1:12.00\n",
      "B2:2.50\n"
     ]
    }
   ],
   "source": [
    "def betweenness_centrality(n):\n",
    "    N = num_in_path(n)\n",
    "    indx = nodelist.index(n)\n",
    "    ss = 0\n",
    "    for i in range(num_node):\n",
    "        for j in range(i+1,num_node):\n",
    "            if (not i == indx) and (not j == indx):\n",
    "                ss = ss + (float(N[i,j])/float(G[i,j]))\n",
    "    return ss\n",
    "\n",
    "print('B1:{:.2f}'.format(betweenness_centrality(node1)))\n",
    "print('B2:{:.2f}'.format(betweenness_centrality(node2)))"
   ]
  },
  {
   "cell_type": "markdown",
   "metadata": {},
   "source": [
    "### Measuring link importance"
   ]
  },
  {
   "cell_type": "code",
   "execution_count": 79,
   "metadata": {},
   "outputs": [
    {
     "name": "stdout",
     "output_type": "stream",
     "text": [
      "N(N1,N3):\n",
      "[['X' '0' '1' '0' '0' '1' '1' '1']\n",
      " ['0' 'X' '1' '0' '0' '1' '1' '1']\n",
      " ['1' '1' 'X' '1' '2' '0' '0' '0']\n",
      " ['0' '0' '1' 'X' '0' '1' '1' '1']\n",
      " ['0' '0' '2' '0' 'X' '2' '2' '2']\n",
      " ['1' '1' '0' '1' '2' 'X' '0' '0']\n",
      " ['1' '1' '0' '1' '2' '0' 'X' '0']\n",
      " ['1' '1' '0' '1' '2' '0' '0' 'X']]\n",
      "N(N1,N2):\n",
      "[['X' '1' '0' '0' '1' '0' '0' '0']\n",
      " ['1' 'X' '1' '0' '0' '1' '1' '1']\n",
      " ['0' '1' 'X' '0' '1' '0' '0' '0']\n",
      " ['0' '0' '0' 'X' '0' '0' '0' '0']\n",
      " ['1' '0' '1' '0' 'X' '1' '1' '1']\n",
      " ['0' '1' '0' '0' '1' 'X' '0' '0']\n",
      " ['0' '1' '0' '0' '1' '0' 'X' '0']\n",
      " ['0' '1' '0' '0' '1' '0' '0' 'X']]\n"
     ]
    }
   ],
   "source": [
    "def num_link_in_path(v1,v2):\n",
    "    N = []\n",
    "    for node in nodelist:\n",
    "        tmp = []\n",
    "        for othernode in nodelist:\n",
    "            if othernode == node:\n",
    "                tmp.append('X')\n",
    "                continue\n",
    "            count = 0\n",
    "            _,_,paths = shortest_path(node,othernode)\n",
    "            for subpath in paths:\n",
    "                if v1.name in subpath and v2.name in subpath:\n",
    "                    ind1 = subpath.index(v1.name)\n",
    "                    ind2 = subpath.index(v2.name)\n",
    "                    if abs(ind1-ind2)==1:\n",
    "                        count = count +1\n",
    "                    \n",
    "            tmp.append(count)\n",
    "        N.append(tmp)\n",
    "    N = np.matrix(N)\n",
    "    return N\n",
    "print(\"N({},{}):\".format(node1.name,node3.name))\n",
    "print(num_link_in_path(node1,node3))\n",
    "print(\"N({},{}):\".format(node1.name,node2.name))\n",
    "print(num_link_in_path(node1,node2))"
   ]
  },
  {
   "attachments": {},
   "cell_type": "markdown",
   "metadata": {},
   "source": [
    "![](src/5.png)"
   ]
  },
  {
   "cell_type": "code",
   "execution_count": 191,
   "metadata": {},
   "outputs": [
    {
     "name": "stdout",
     "output_type": "stream",
     "text": [
      "Summary:\n",
      "D1: 3\n",
      "D2: 3\n",
      "E1:0.41\n",
      "E2:0.35\n",
      "C1:0.64\n",
      "C2:0.50\n",
      "B1:12.00\n",
      "B2:2.50\n",
      "B(N1,N3):16.0\n",
      "B(N1,N2):7.5\n"
     ]
    }
   ],
   "source": [
    "def betweenness_centrality_link(v1,v2):\n",
    "    N = num_link_in_path(v1,v2)\n",
    "    ss = 0\n",
    "    for i in range(num_node):\n",
    "        for j in range(i+1,num_node):\n",
    "            ss = ss + (float(N[i,j])/float(G[i,j]))\n",
    "    return ss\n",
    "print(\"Summary:\")\n",
    "print(\"D1:\",len(node1.connected_nodes))\n",
    "print(\"D2:\",len(node2.connected_nodes))\n",
    "print(\"E1:{:.2f}\".format(v[0][0,0]))\n",
    "print(\"E2:{:.2f}\".format(v[1][0,0]))\n",
    "print(\"C1:{:.2f}\".format(closeness_centrality[0]))\n",
    "print(\"C2:{:.2f}\".format(closeness_centrality[1]))\n",
    "print('B1:{:.2f}'.format(betweenness_centrality(node1)))\n",
    "print('B2:{:.2f}'.format(betweenness_centrality(node2)))\n",
    "print(\"B({},{}):\".format(node1.name,node3.name),end='')\n",
    "print(betweenness_centrality_link(node1,node3))\n",
    "print(\"B({},{}):\".format(node1.name,node2.name),end='')\n",
    "print(betweenness_centrality_link(node1,node2))"
   ]
  },
  {
   "cell_type": "markdown",
   "metadata": {},
   "source": [
    "### In order to build a more complex graph in later part, I will use a python module \"networkx\""
   ]
  },
  {
   "cell_type": "code",
   "execution_count": 91,
   "metadata": {},
   "outputs": [
    {
     "name": "stdout",
     "output_type": "stream",
     "text": [
      "[(1, 2), (1, 3), (1, 4), (2, 4), (2, 5), (3, 6), (3, 7), (3, 8), (4, 5), (6, 7), (7, 8)]\n"
     ]
    }
   ],
   "source": [
    "mygraph = nx.Graph()\n",
    "mygraph.add_edge(1,2)\n",
    "mygraph.add_edge(1,3)\n",
    "mygraph.add_edge(1,4)\n",
    "mygraph.add_edge(2,4)\n",
    "mygraph.add_edge(2,5)\n",
    "mygraph.add_edge(3,6)\n",
    "mygraph.add_edge(3,7)\n",
    "mygraph.add_edge(3,8)\n",
    "mygraph.add_edge(4,5)\n",
    "mygraph.add_edge(6,7)\n",
    "mygraph.add_edge(7,8)\n",
    "print (mygraph.edges())"
   ]
  },
  {
   "cell_type": "code",
   "execution_count": 121,
   "metadata": {},
   "outputs": [
    {
     "data": {
      "image/png": "[encoded data removed]",
      "text/plain": [
       "<matplotlib.figure.Figure at 0x10a984860>"
      ]
     },
     "metadata": {},
     "output_type": "display_data"
    }
   ],
   "source": [
    "plt.clf()\n",
    "nx.draw_networkx(mygraph)\n",
    "plt.show()"
   ]
  },
  {
   "cell_type": "markdown",
   "metadata": {},
   "source": [
    "The graph above is actually totally same with the example.<br>\n",
    "Then we use the methods to calcuate 4 attribuates again.<br>\n",
    "Of course, it is totally same as the result we got in previous approach."
   ]
  },
  {
   "cell_type": "code",
   "execution_count": 188,
   "metadata": {},
   "outputs": [
    {
     "name": "stdout",
     "output_type": "stream",
     "text": [
      "Summary:\n",
      "D1: 3\n",
      "D2: 3\n",
      "E1:0.41\n",
      "E2:0.35\n",
      "C1:0.64\n",
      "C2:0.50\n",
      "B1:12.00\n",
      "B2:2.50\n",
      "B(1,3) 16.0\n",
      "B(1,2) 7.5\n"
     ]
    }
   ],
   "source": [
    "print(\"Summary:\")\n",
    "print(\"D1:\",mygraph.degree(1))\n",
    "print(\"D2:\",mygraph.degree(2))\n",
    "print(\"E1:{:.2f}\".format(nx.eigenvector_centrality(mygraph)[1]))\n",
    "print(\"E2:{:.2f}\".format(nx.eigenvector_centrality(mygraph)[2]))\n",
    "print(\"C1:{:.2f}\".format(nx.closeness_centrality(mygraph)[1]))\n",
    "print(\"C2:{:.2f}\".format(nx.closeness_centrality(mygraph)[2]))\n",
    "print(\"B1:{:.2f}\".format(nx.betweenness_centrality(mygraph, normalized=False)[1]))\n",
    "print(\"B2:{:.2f}\".format(nx.betweenness_centrality(mygraph, normalized=False)[2]))\n",
    "print(\"B(1,3)\",nx.edge_betweenness_centrality(mygraph, normalized=False)[1,3])\n",
    "print(\"B(1,2)\",nx.edge_betweenness_centrality(mygraph, normalized=False)[1,2])"
   ]
  },
  {
   "attachments": {},
   "cell_type": "markdown",
   "metadata": {},
   "source": [
    "## Infection Models\n",
    "![](src/6.png)"
   ]
  },
  {
   "attachments": {},
   "cell_type": "markdown",
   "metadata": {},
   "source": [
    "### SI model\n",
    "![](src/7.png)\n",
    "![](src/8.png)\n",
    "![](src/9.png)"
   ]
  },
  {
   "cell_type": "code",
   "execution_count": 194,
   "metadata": {},
   "outputs": [
    {
     "data": {
      "image/png": "[encoded data removed]",
      "text/plain": [
       "<matplotlib.figure.Figure at 0x10aebef60>"
      ]
     },
     "metadata": {},
     "output_type": "display_data"
    }
   ],
   "source": [
    "def SI(N = 2000, I0 = 1, beta = 0.3):\n",
    "    # Everyone else, S0, is susceptible to infection initially.\n",
    "    S0 = N - I0 \n",
    "    # A grid of time points (in days)\n",
    "    t = np.linspace(0, 160, 160)\n",
    "    # The SIR model differential equations.\n",
    "    def deriv(y, t, N, beta):\n",
    "        S, I = y\n",
    "        dSdt = -beta * S * I / N\n",
    "        dIdt = beta * S * I / N \n",
    "        return dSdt, dIdt, \n",
    "    # Initial conditions vector\n",
    "    y0 = S0, I0\n",
    "    # Integrate the SIR equations over the time grid, t.\n",
    "    ret = odeint(deriv, y0, t, args=(N, beta))\n",
    "    S, I = ret.T\n",
    "    # Plot the data on three separate curves for S(t), I(t) and R(t)\n",
    "    fig = plt.figure(facecolor='w')\n",
    "    ax = fig.add_subplot(111,axis_bgcolor='#dddddd', axisbelow=True)\n",
    "    ax.plot(t, S/1000, 'b', alpha=0.5, lw=2, label='Susceptible')\n",
    "    ax.plot(t, I/1000, 'r', alpha=0.5, lw=2, label='Infected')\n",
    "    ax.set_xlabel('Time /days')\n",
    "    ax.set_ylabel('Number (1000s)')\n",
    "    ax.set_ylim(0,N/1000)\n",
    "    ax.yaxis.set_tick_params(length=0)\n",
    "    ax.xaxis.set_tick_params(length=0)\n",
    "    ax.grid(b=True, which='major', c='w', lw=2, ls='-')\n",
    "    legend = ax.legend()\n",
    "    legend.get_frame().set_alpha(0.5)\n",
    "    for spine in ('top', 'right', 'bottom', 'left'):\n",
    "        ax.spines[spine].set_visible(False)\n",
    "    plt.show()\n",
    "SI()"
   ]
  },
  {
   "attachments": {},
   "cell_type": "markdown",
   "metadata": {},
   "source": [
    "### SIS model\n",
    "![](src/10.png)\n",
    "![](src/11.png)"
   ]
  },
  {
   "cell_type": "code",
   "execution_count": 145,
   "metadata": {},
   "outputs": [
    {
     "data": {
      "image/png": "[encoded data removed]",
      "text/plain": [
       "<matplotlib.figure.Figure at 0x10b288898>"
      ]
     },
     "metadata": {},
     "output_type": "display_data"
    }
   ],
   "source": [
    "def SIS(N = 2000, I0 = 1, beta = 0.3, gamma = 0.1):\n",
    "    # Everyone else, S0, is susceptible to infection initially.\n",
    "    S0 = N - I0\n",
    "    # A grid of time points (in days)\n",
    "    t = np.linspace(0, 160, 160)\n",
    "    # The SIR model differential equations.\n",
    "    def deriv(y, t, N, beta, gamma):\n",
    "        S, I = y\n",
    "        dSdt = -beta * S * I / N \n",
    "        dIdt = beta * S * I / N - gamma * I\n",
    "        dSdt = dSdt + gamma * I\n",
    "        return dSdt, dIdt\n",
    "    # Initial conditions vector\n",
    "    y0 = S0, I0\n",
    "    # Integrate the SIR equations over the time grid, t.\n",
    "    ret = odeint(deriv, y0, t, args=(N, beta, gamma))\n",
    "    S, I = ret.T\n",
    "    # Plot the data on three separate curves for S(t), I(t) and R(t)\n",
    "    fig = plt.figure(facecolor='w')\n",
    "    ax = fig.add_subplot(111,axis_bgcolor='#dddddd', axisbelow=True)\n",
    "    ax.plot(t, S/1000, 'b', alpha=0.5, lw=2, label='Susceptible')\n",
    "    ax.plot(t, I/1000, 'r', alpha=0.5, lw=2, label='Infected')\n",
    "    ax.set_xlabel('Time /days')\n",
    "    ax.set_ylabel('Number (1000s)')\n",
    "    ax.set_ylim(0,N/1000)\n",
    "    ax.yaxis.set_tick_params(length=0)\n",
    "    ax.xaxis.set_tick_params(length=0)\n",
    "    ax.grid(b=True, which='major', c='w', lw=2, ls='-')\n",
    "    legend = ax.legend()\n",
    "    legend.get_frame().set_alpha(0.5)\n",
    "    for spine in ('top', 'right', 'bottom', 'left'):\n",
    "        ax.spines[spine].set_visible(False)\n",
    "    plt.show()\n",
    "SIS()"
   ]
  },
  {
   "attachments": {},
   "cell_type": "markdown",
   "metadata": {},
   "source": [
    "### SIR model\n",
    "![](src/12.png)"
   ]
  },
  {
   "cell_type": "code",
   "execution_count": 195,
   "metadata": {},
   "outputs": [
    {
     "data": {
      "image/png": "[encoded data removed]",
      "text/plain": [
       "<matplotlib.figure.Figure at 0x10aea4cf8>"
      ]
     },
     "metadata": {},
     "output_type": "display_data"
    }
   ],
   "source": [
    "def SIR(N = 2000, I0 = 1, R0 = 0, beta = 0.5, gamma = 0.1):\n",
    "    # Everyone else, S0, is susceptible to infection initially.\n",
    "    S0 = N - I0 - R0\n",
    "    # A grid of time points (in days)\n",
    "    t = np.linspace(0, 160, 160)\n",
    "    # The SIR model differential equations.\n",
    "    def deriv(y, t, N, beta, gamma):\n",
    "        S, I, R = y\n",
    "        dSdt = -beta * S * I / N\n",
    "        dIdt = beta * S * I / N - gamma * I\n",
    "        dRdt = gamma * I\n",
    "        return dSdt, dIdt, dRdt\n",
    "    # Initial conditions vector\n",
    "    y0 = S0, I0, R0\n",
    "    # Integrate the SIR equations over the time grid, t.\n",
    "    ret = odeint(deriv, y0, t, args=(N, beta, gamma))\n",
    "    S, I, R = ret.T\n",
    "    # Plot the data on three separate curves for S(t), I(t) and R(t)\n",
    "    fig = plt.figure(facecolor='w')\n",
    "    ax = fig.add_subplot(111,axis_bgcolor='#dddddd', axisbelow=True)\n",
    "    ax.plot(t, S/1000, 'b', alpha=0.5, lw=2, label='Susceptible')\n",
    "    ax.plot(t, I/1000, 'r', alpha=0.5, lw=2, label='Infected')\n",
    "    ax.plot(t, R/1000, 'g', alpha=0.5, lw=2, label='Recovered with immunity')\n",
    "    ax.set_xlabel('Time /days')\n",
    "    ax.set_ylabel('Number (1000s)')\n",
    "    ax.set_ylim(0,N/1000)\n",
    "    ax.yaxis.set_tick_params(length=0)\n",
    "    ax.xaxis.set_tick_params(length=0)\n",
    "    ax.grid(b=True, which='major', c='w', lw=2, ls='-')\n",
    "    legend = ax.legend()\n",
    "    legend.get_frame().set_alpha(0.5)\n",
    "    for spine in ('top', 'right', 'bottom', 'left'):\n",
    "        ax.spines[spine].set_visible(False)\n",
    "    plt.show()\n",
    "SIR()"
   ]
  }
 ],
 "metadata": {
  "kernelspec": {
   "display_name": "Python 3",
   "language": "python",
   "name": "python3"
  },
  "language_info": {
   "codemirror_mode": {
    "name": "ipython",
    "version": 3
   },
   "file_extension": ".py",
   "mimetype": "text/x-python",
   "name": "python",
   "nbconvert_exporter": "python",
   "pygments_lexer": "ipython3",
   "version": "3.6.1"
  }
 },
 "nbformat": 4,
 "nbformat_minor": 2
}
